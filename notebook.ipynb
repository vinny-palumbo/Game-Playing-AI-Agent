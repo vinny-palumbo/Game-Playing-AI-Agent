{
 "cells": [
  {
   "cell_type": "markdown",
   "metadata": {
    "deletable": true,
    "editable": true
   },
   "source": [
    "# **Solve an Isolation Game with AI** \n",
    "***\n",
    "\n",
    "**Note: If, at any point, you encounter frozen display windows or other confounding issues, you can always start again with a clean slate by going to the \"Kernel\" menu above and selecting \"Restart & Clear Output\".**\n",
    "\n",
    "---"
   ]
  },
  {
   "cell_type": "markdown",
   "metadata": {
    "deletable": true,
    "editable": true
   },
   "source": [
    "**Run the cell below to import some packages.  If you get an `import error` for a package you've already installed, try changing your kernel (select the Kernel menu above --> Change Kernel).  Still have problems?  Try relaunching Jupyter Notebook from the terminal prompt."
   ]
  },
  {
   "cell_type": "markdown",
   "metadata": {
    "deletable": true,
    "editable": true
   },
   "source": [
    "#### Import Packages"
   ]
  },
  {
   "cell_type": "code",
   "execution_count": 1,
   "metadata": {
    "collapsed": true,
    "deletable": true,
    "editable": true
   },
   "outputs": [],
   "source": [
    "#importing some useful packages\n",
    "import matplotlib.pyplot as plt\n",
    "import matplotlib.image as mpimg\n",
    "import numpy as np\n",
    "import pandas as pd\n",
    "%matplotlib inline\n",
    "\n",
    "from copy import deepcopy"
   ]
  },
  {
   "cell_type": "markdown",
   "metadata": {
    "deletable": true,
    "editable": true
   },
   "source": [
    "### Game State Representation\n",
    "\n",
    "![alt text](images/isoboard.png \"Game States\")"
   ]
  },
  {
   "cell_type": "code",
   "execution_count": 2,
   "metadata": {
    "collapsed": false,
    "deletable": true,
    "editable": true
   },
   "outputs": [
    {
     "data": {
      "text/plain": [
       "[[0, 0], [0, 0], [0, 0]]"
      ]
     },
     "execution_count": 2,
     "metadata": {},
     "output_type": "execute_result"
    }
   ],
   "source": [
    "xlim, ylim = 3, 2  # board dimensions\n",
    "[[0] * ylim for _ in range(xlim)]"
   ]
  },
  {
   "cell_type": "code",
   "execution_count": null,
   "metadata": {
    "collapsed": true,
    "deletable": true,
    "editable": true
   },
   "outputs": [],
   "source": [
    "class GameState:\n",
    "    \"\"\"\n",
    "    Attributes\n",
    "    ----------\n",
    "    _board: list(list)\n",
    "        Represent the board with a 2d array _board[x][y]\n",
    "        where open spaces are 0 and closed spaces are 1\n",
    "    \n",
    "    _parity: bool\n",
    "        Keep track of active player initiative (which\n",
    "        player has control to move) where 0 indicates that\n",
    "        player one has initiative and 1 indicates player 2\n",
    "    \n",
    "    _player_locations: list(tuple)\n",
    "        Keep track of the current location of each player\n",
    "        on the board where position is encoded by the\n",
    "        board indices of their last move, e.g., [(0, 0), (1, 0)]\n",
    "        means player 1 is at (0, 0) and player 2 is at (1, 0)\n",
    "    \n",
    "    \"\"\"\n",
    "\n",
    "    def __init__(self):\n",
    "        self._board = [[0] * ylim for _ in range(xlim)]\n",
    "        self._board[-1][-1] = 1  # block lower-right corner\n",
    "        self._parity = 0\n",
    "        self._player_locations = [None, None]\n",
    "\n",
    "    def forecast_move(self, move):\n",
    "        \"\"\" Return a new board object with the specified move\n",
    "        applied to the current game state.\n",
    "        \n",
    "        Parameters\n",
    "        ----------\n",
    "        move: tuple\n",
    "            The target position for the active player's next move\n",
    "        \"\"\"\n",
    "        if move not in self.get_legal_moves():\n",
    "            raise RuntimeError(\"Attempted forecast of illegal move\")\n",
    "        newBoard = deepcopy(self)\n",
    "        newBoard._board[move[0]][move[1]] = 1\n",
    "        newBoard._player_locations[self._parity] = move\n",
    "        newBoard._parity ^= 1\n",
    "        return newBoard\n",
    "\n",
    "    def get_legal_moves(self):\n",
    "        \"\"\" Return a list of all legal moves available to the\n",
    "        active player.  Each player should get a list of all\n",
    "        empty spaces on the board on their first move, and\n",
    "        otherwise they should get a list of all open spaces\n",
    "        in a straight line along any row, column or diagonal\n",
    "        from their current position. (Players CANNOT move\n",
    "        through obstacles or blocked squares.)\n",
    "        \"\"\"\n",
    "        loc = self._player_locations[self._parity]\n",
    "        if not loc:\n",
    "            return self._get_blank_spaces()\n",
    "        moves = []\n",
    "        rays = [(1, 0), (1, -1), (0, -1), (-1, -1),\n",
    "                (-1, 0), (-1, 1), (0, 1), (1, 1)]\n",
    "        for dx, dy in rays:\n",
    "            _x, _y = loc\n",
    "            while 0 <= _x + dx < xlim and 0 <= _y + dy < ylim:\n",
    "                _x, _y = _x + dx, _y + dy\n",
    "                if self._board[_x][_y]:\n",
    "                    break\n",
    "                moves.append((_x, _y))\n",
    "        return moves\n",
    "\n",
    "    def _get_blank_spaces(self):\n",
    "        \"\"\" Return a list of blank spaces on the board.\"\"\"\n",
    "        return [(x, y) for y in range(ylim) for x in range(xlim)\n",
    "                if self._board[x][y] == 0]"
   ]
  },
  {
   "cell_type": "markdown",
   "metadata": {
    "deletable": true,
    "editable": true
   },
   "source": [
    "### Implementing the Minimax Algorithm"
   ]
  },
  {
   "cell_type": "code",
   "execution_count": null,
   "metadata": {
    "collapsed": true,
    "deletable": true,
    "editable": true
   },
   "outputs": [],
   "source": [
    "def terminal_test(gameState):\n",
    "    \"\"\" Return True if the game is over for the active player\n",
    "    and False otherwise.\n",
    "    \"\"\"\n",
    "    return not bool(gameState.get_legal_moves())  # by Assumption 1\n",
    "\n",
    "\n",
    "def min_value(gameState):\n",
    "    \"\"\" Return the value for a win (+1) if the game is over,\n",
    "    otherwise return the minimum value over all legal child\n",
    "    nodes.\n",
    "    \"\"\"\n",
    "    if terminal_test(gameState):\n",
    "        return 1  # by Assumption 2\n",
    "    v = float(\"inf\")\n",
    "    for m in gameState.get_legal_moves():\n",
    "        v = min(v, max_value(gameState.forecast_move(m)))\n",
    "    return v\n",
    "\n",
    "\n",
    "def max_value(gameState):\n",
    "    \"\"\" Return the value for a loss (-1) if the game is over,\n",
    "    otherwise return the maximum value over all legal child\n",
    "    nodes.\n",
    "    \"\"\"\n",
    "    if terminal_test(gameState):\n",
    "        return -1  # by assumption 2\n",
    "    v = float(\"-inf\")\n",
    "    for m in gameState.get_legal_moves():\n",
    "        v = max(v, min_value(gameState.forecast_move(m)))\n",
    "    return v"
   ]
  },
  {
   "cell_type": "code",
   "execution_count": null,
   "metadata": {
    "collapsed": true,
    "deletable": true,
    "editable": true
   },
   "outputs": [],
   "source": [
    "# Solution using an explicit loop based on max_value()\n",
    "def _minimax_decision(gameState):\n",
    "    \"\"\" Return the move along a branch of the game tree that\n",
    "    has the best possible value.  A move is a pair of coordinates\n",
    "    in (column, row) order corresponding to a legal move for\n",
    "    the searching player.\n",
    "    \n",
    "    You can ignore the special case of calling this function\n",
    "    from a terminal state.\n",
    "    \"\"\"\n",
    "    best_score = float(\"-inf\")\n",
    "    best_move = None\n",
    "    for m in gameState.get_legal_moves():\n",
    "        v = min_value(gameState.forecast_move(m))\n",
    "        if v > best_score:\n",
    "            best_score = v\n",
    "            best_move = m\n",
    "    return best_move\n",
    "\n",
    "\n",
    "# This solution does the same thing using the built-in `max` function\n",
    "# Note that \"lambda\" expressions are Python's version of anonymous functions\n",
    "def minimax_decision(gameState):\n",
    "    \"\"\" Return the move along a branch of the game tree that\n",
    "    has the best possible value.  A move is a pair of coordinates\n",
    "    in (column, row) order corresponding to a legal move for\n",
    "    the searching player.\n",
    "    \n",
    "    You can ignore the special case of calling this function\n",
    "    from a terminal state.\n",
    "    \"\"\"\n",
    "    # The built in `max()` function can be used as argmax!\n",
    "    return max(gameState.get_legal_moves(),\n",
    "               key=lambda m: min_value(gameState.forecast_move(m)))"
   ]
  }
 ],
 "metadata": {
  "anaconda-cloud": {},
  "kernelspec": {
   "display_name": "Python 3",
   "language": "python",
   "name": "python3"
  },
  "language_info": {
   "codemirror_mode": {
    "name": "ipython",
    "version": 3
   },
   "file_extension": ".py",
   "mimetype": "text/x-python",
   "name": "python",
   "nbconvert_exporter": "python",
   "pygments_lexer": "ipython3",
   "version": "3.6.0"
  },
  "widgets": {
   "state": {},
   "version": "1.1.2"
  }
 },
 "nbformat": 4,
 "nbformat_minor": 1
}
